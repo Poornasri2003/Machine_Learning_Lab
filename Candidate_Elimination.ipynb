{
 "cells": [
  {
   "cell_type": "code",
   "execution_count": 42,
   "id": "d2269e6d-9fbf-492a-9340-8ec3644ebc9b",
   "metadata": {},
   "outputs": [
    {
     "name": "stdout",
     "output_type": "stream",
     "text": [
      "numpy executed\n"
     ]
    }
   ],
   "source": [
    "import numpy as np\n",
    "print(\"numpy executed\")\n",
    "##if it is a csv\n",
    "'''\n",
    "dataset=pd.read_csv(\"\")\n",
    "data=dataset.iloc[:,:-1].values\n",
    "target=dataset.iloc[:,-1].values\n",
    ".values convet to numpy array\n",
    "'''"
   ]
  },
  {
   "cell_type": "code",
   "execution_count": 43,
   "id": "fc16cda8-6e1f-4f8b-ab23-fe28a4d16f9a",
   "metadata": {},
   "outputs": [
    {
     "name": "stdout",
     "output_type": "stream",
     "text": [
      "[['Sunny' 'High' 'Warm' 'Windy']\n",
      " ['Sunny' 'High' 'Cool' 'Rainy']\n",
      " ['Sunny' 'low' 'Warm' 'Windy']\n",
      " ['Sunny' 'High' 'Warm' 'Windy']\n",
      " ['Sunny' 'High' 'Cool' 'Rainy']\n",
      " ['Cloudy' 'low' 'Warm' 'Windy']]\n",
      "['Yes', 'No', 'No', 'Yes', 'Yes', 'No']\n"
     ]
    }
   ],
   "source": [
    "data=np.array([\n",
    "    ['Sunny','High','Warm','Windy'],\n",
    "    ['Sunny','High','Cool','Rainy'],\n",
    "    ['Sunny','low','Warm','Windy'],\n",
    "     ['Sunny','High','Warm','Windy'],\n",
    "    ['Sunny','High','Cool','Rainy'],\n",
    "    ['Cloudy','low','Warm','Windy'],\n",
    "])\n",
    "target=['Yes','No','No','Yes','Yes','No']\n",
    "print(data)\n",
    "print(target)"
   ]
  },
  {
   "cell_type": "code",
   "execution_count": 44,
   "id": "206b1091-b98e-4499-82df-7e6353557bf5",
   "metadata": {},
   "outputs": [
    {
     "name": "stdout",
     "output_type": "stream",
     "text": [
      "Specific hypothesis ['Sunny' 'High' 'Warm' 'Windy']\n",
      "General hypothesis [['?', '?', '?', '?']]\n"
     ]
    }
   ],
   "source": [
    "#Specific hypothesis\n",
    "S=data[0].copy()\n",
    "G=[['?' for _ in range(len(S))]]\n",
    "print(\"Specific hypothesis\",S)\n",
    "print(\"General hypothesis\",G)"
   ]
  },
  {
   "cell_type": "code",
   "execution_count": 45,
   "id": "d944dd7b-54cc-475a-84b5-0646efb3d0a6",
   "metadata": {},
   "outputs": [],
   "source": [
    "def consistent(hypothesis,example):\n",
    "    for h,e in zip(hypothesis,example):\n",
    "        if h!=e and h!='?':\n",
    "            return False\n",
    "    return True\n",
    "def specialize_general_hypothesis(G, S, example):\n",
    "    new_G = []\n",
    "    for g in G:\n",
    "        for i in range(len(g)):\n",
    "            if g[i] == \"?\":\n",
    "                for value in [\"Sunny\", \"Rainy\", \"Overcast\", \"Hot\", \"Cold\", \"Mild\", \"High\", \"Normal\", \"Strong\", \"Weak\", \"Same\", \"Change\"]:\n",
    "                    if value != example[i] and value == S[i]:\n",
    "                        new_hypothesis = g[:]\n",
    "                        new_hypothesis[i] = value\n",
    "                        new_G.append(new_hypothesis)\n",
    "    return new_G\n"
   ]
  },
  {
   "cell_type": "code",
   "execution_count": 46,
   "id": "6a7661a4-28a3-4b4d-8d49-a03e04faae2b",
   "metadata": {},
   "outputs": [],
   "source": [
    "def general_hypo(S,G,example):\n",
    "    new_G=[]\n",
    "    for g in G:\n",
    "        for i in range(len(g)):\n",
    "            if g[i]=='?':\n",
    "                for value in ('Sunny','Cloudy','Low','High','Cool','Warm','Rainy','Windy'):\n",
    "                    if value!=example[i] and value==S[i]:\n",
    "                        new_hyp=g[:]\n",
    "                        new_hyp[i]=value\n",
    "                        new_G.append(new_hyp)\n",
    "    return new_G"
   ]
  },
  {
   "cell_type": "code",
   "execution_count": 47,
   "id": "6fb51a53-4179-42e0-9b78-668ed3108796",
   "metadata": {},
   "outputs": [
    {
     "name": "stdout",
     "output_type": "stream",
     "text": [
      "['Sunny' 'High' 'Warm' 'Windy']\n",
      "[['?', '?', '?', '?']]\n",
      "Next\n",
      "['Sunny' 'High' 'Warm' 'Windy']\n",
      "[['?', '?', 'Warm', '?'], ['?', '?', '?', 'Windy']]\n",
      "Next\n",
      "['Sunny' 'High' 'Warm' 'Windy']\n",
      "[['?', 'High', 'Warm', '?'], ['?', 'High', '?', 'Windy']]\n",
      "Next\n",
      "['Sunny' 'High' 'Warm' 'Windy']\n",
      "[['?', 'High', 'Warm', '?'], ['?', 'High', '?', 'Windy']]\n",
      "Next\n",
      "['Sunny' 'High' '?' '?']\n",
      "[]\n",
      "Next\n",
      "['Sunny' 'High' '?' '?']\n",
      "[]\n",
      "Next\n"
     ]
    }
   ],
   "source": [
    "for i,example in enumerate(data):\n",
    "    if target[i]==\"Yes\":\n",
    "        for j in range(len(S)):\n",
    "            if S[j]!=example[j]:\n",
    "                S[j]='?'\n",
    "        G=[g for g in G if consistent(g,example)] \n",
    "    elif target[i]==\"No\":\n",
    "        G=general_hypo(S,G,example)\n",
    "   \n",
    "    print(S)\n",
    "    print(G)\n",
    "    print(\"Next\")"
   ]
  },
  {
   "cell_type": "code",
   "execution_count": null,
   "id": "cbd9d322-2a1c-467e-8a24-39e035f852fc",
   "metadata": {},
   "outputs": [],
   "source": []
  },
  {
   "cell_type": "code",
   "execution_count": 10,
   "id": "0faf67e9-9501-46e3-8bb0-d0be9202ed36",
   "metadata": {},
   "outputs": [
    {
     "name": "stdout",
     "output_type": "stream",
     "text": [
      "Final Specific Boundary (S): ['Sunny' 'Warm' '?' 'Strong' '?' '?']\n",
      "Final General Boundary (G): [['Sunny', '?', '?', '?', '?', '?']]\n"
     ]
    }
   ],
   "source": [
    "import numpy as np\n",
    "\n",
    "# Dataset\n",
    "data = np.array([\n",
    "    [\"Sunny\", \"Warm\", \"Normal\", \"Strong\", \"Warm\", \"Same\"],\n",
    "    [\"Sunny\", \"Warm\", \"High\", \"Strong\", \"Warm\", \"Same\"],\n",
    "    [\"Rainy\", \"Cold\", \"High\", \"Strong\", \"Warm\", \"Change\"],\n",
    "    [\"Sunny\", \"Warm\", \"High\", \"Strong\", \"Cool\", \"Change\"]\n",
    "])\n",
    "target = [\"Yes\", \"Yes\", \"No\", \"Yes\"]\n",
    "\n",
    "# Initialize Specific and General Boundaries\n",
    "specific_hypothesis = data[0].copy()  # Most specific hypothesis\n",
    "general_hypothesis = [[\"?\" for _ in range(len(specific_hypothesis))]]  # Most general hypothesis\n",
    "\n",
    "# Helper Functions\n",
    "def consistent_with_example(hypothesis, example):\n",
    "    for h, e in zip(hypothesis, example):\n",
    "        if h != \"?\" and h != e:\n",
    "            return False\n",
    "    return True\n",
    "\n",
    "def specialize_general_hypothesis(G, S, example):\n",
    "    new_G = []\n",
    "    for g in G:\n",
    "        for i in range(len(g)):\n",
    "            if g[i] == \"?\":\n",
    "                for value in [\"Sunny\", \"Rainy\", \"Overcast\", \"Hot\", \"Cold\", \"Mild\", \"High\", \"Normal\", \"Strong\", \"Weak\", \"Same\", \"Change\"]:\n",
    "                    if value != example[i] and value == S[i]:\n",
    "                        new_hypothesis = g[:]\n",
    "                        new_hypothesis[i] = value\n",
    "                        new_G.append(new_hypothesis)\n",
    "    return new_G\n",
    "\n",
    "# Candidate Elimination Algorithm\n",
    "for i, example in enumerate(data):\n",
    "    if target[i] == \"Yes\":  # Positive example\n",
    "        for x in range(len(specific_hypothesis)):\n",
    "            if example[x] != specific_hypothesis[x]:\n",
    "                specific_hypothesis[x] = \"?\"  # Generalize S minimally\n",
    "        general_hypothesis = [g for g in general_hypothesis if consistent_with_example(g, example)]\n",
    "    elif target[i] == \"No\":  # Negative example\n",
    "        general_hypothesis = specialize_general_hypothesis(general_hypothesis, specific_hypothesis, example)\n",
    "\n",
    "# Remove inconsistent hypotheses\n",
    "general_hypothesis = [g for g in general_hypothesis if not consistent_with_example(specific_hypothesis, g)]\n",
    "\n",
    "# Output the final boundaries\n",
    "print(\"Final Specific Boundary (S):\", specific_hypothesis)\n",
    "print(\"Final General Boundary (G):\", general_hypothesis)\n"
   ]
  },
  {
   "cell_type": "code",
   "execution_count": null,
   "id": "016c3ff4-0f93-4ba8-985b-aaed1598dd7f",
   "metadata": {},
   "outputs": [],
   "source": []
  }
 ],
 "metadata": {
  "kernelspec": {
   "display_name": "Python 3 (ipykernel)",
   "language": "python",
   "name": "python3"
  },
  "language_info": {
   "codemirror_mode": {
    "name": "ipython",
    "version": 3
   },
   "file_extension": ".py",
   "mimetype": "text/x-python",
   "name": "python",
   "nbconvert_exporter": "python",
   "pygments_lexer": "ipython3",
   "version": "3.11.7"
  }
 },
 "nbformat": 4,
 "nbformat_minor": 5
}
